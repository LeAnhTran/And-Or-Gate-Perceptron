{
 "cells": [
  {
   "cell_type": "code",
   "execution_count": 1,
   "metadata": {},
   "outputs": [],
   "source": [
    "# May 16, 2019\n",
    "# Tran Le Anh - MSc Student in Computer Vision \n",
    "# Dept. of Electronics Engineering, Myongji University, South Korea\n",
    "# tranleanh.nt@gmail.com\n",
    "# https://sites.google.com/view/leanhtran"
   ]
  },
  {
   "cell_type": "code",
   "execution_count": 2,
   "metadata": {},
   "outputs": [],
   "source": [
    "from matplotlib import pyplot as plt\n",
    "import numpy as np\n",
    "import pandas as pd"
   ]
  },
  {
   "cell_type": "code",
   "execution_count": 3,
   "metadata": {},
   "outputs": [],
   "source": [
    "filename = 'traindata.dat'\n",
    "data = pd.read_csv(filename, delimiter=';', header = None)\n",
    "data = np.asarray(data)"
   ]
  },
  {
   "cell_type": "code",
   "execution_count": 4,
   "metadata": {},
   "outputs": [],
   "source": [
    "x1 = []\n",
    "x2 = []\n",
    "y = []\n",
    "\n",
    "for i in range (len(data)):\n",
    "    x1 = np.append(x1, data[i][0])\n",
    "    x2 = np.append(x2, data[i][1])\n",
    "    y = np.append(y, data[i][2])"
   ]
  },
  {
   "cell_type": "code",
   "execution_count": 5,
   "metadata": {},
   "outputs": [
    {
     "name": "stdout",
     "output_type": "stream",
     "text": [
      "[0.7 0.6 0.7 0.7 0.8 0.9 0.7 0.4 0.6 0.6 0.1 0.4 0.5 0.9 0.2 0.1 0.3 0.4\n",
      " 0.9 0.2 0.5 0.8 0.5 0.2 0.4 0.3 0.8 0.5 0.2 0.9 0.7 0.3 0.4 0.2 0.3 0.7\n",
      " 0.1 0.5 0.3 0.3 0.6 0.8 0.2 0.9 0.8 0.6 0.4 0.1 0.6 0.7 0.2 0.1 0.5 0.7\n",
      " 0.6 0.3 0.9 0.2 0.8 0.8 0.1 0.9 0.4 0.5 0.6 0.1 0.3 0.1 0.9 0.1 0.9 0.7\n",
      " 0.8 0.6 0.4 0.5 0.5 0.3 0.8 0.2 0.4]\n",
      "[0.6 0.8 0.1 0.3 0.7 0.4 0.9 0.6 0.9 0.3 0.9 0.2 0.8 0.5 0.4 0.8 0.4 0.4\n",
      " 0.7 0.8 0.4 0.4 0.9 0.6 0.5 0.3 0.8 0.2 0.7 0.1 0.5 0.2 0.3 0.3 0.8 0.8\n",
      " 0.7 0.6 0.6 0.1 0.5 0.3 0.2 0.3 0.2 0.7 0.1 0.3 0.6 0.2 0.9 0.5 0.3 0.7\n",
      " 0.4 0.9 0.6 0.1 0.9 0.5 0.2 0.8 0.9 0.1 0.1 0.4 0.5 0.6 0.9 0.1 0.2 0.4\n",
      " 0.6 0.2 0.7 0.5 0.7 0.7 0.1 0.5 0.8]\n",
      "[0. 0. 1. 1. 0. 1. 0. 0. 0. 0. 0. 0. 0. 1. 0. 0. 0. 0. 1. 0. 0. 1. 0. 0.\n",
      " 0. 0. 0. 0. 0. 1. 0. 0. 0. 0. 0. 0. 0. 0. 0. 0. 0. 1. 0. 1. 1. 0. 0. 0.\n",
      " 0. 1. 0. 0. 0. 0. 0. 0. 1. 0. 0. 1. 0. 0. 0. 0. 1. 0. 0. 0. 0. 0. 1. 0.\n",
      " 0. 0. 0. 0. 0. 0. 1. 0. 0.]\n"
     ]
    }
   ],
   "source": [
    "# Display the data\n",
    "print(x1)\n",
    "print(x2)\n",
    "print(y)"
   ]
  },
  {
   "cell_type": "code",
   "execution_count": 6,
   "metadata": {},
   "outputs": [
    {
     "data": {
      "image/png": "[encoded data removed]",
      "text/plain": [
       "<Figure size 432x288 with 1 Axes>"
      ]
     },
     "metadata": {
      "needs_background": "light"
     },
     "output_type": "display_data"
    }
   ],
   "source": [
    "# Visualize the data\n",
    "plt.scatter(x1, x2, c = y)\n",
    "plt.xlabel(\"input x1\")\n",
    "plt.ylabel(\"input x2\")\n",
    "plt.show()"
   ]
  },
  {
   "cell_type": "code",
   "execution_count": 7,
   "metadata": {},
   "outputs": [],
   "source": [
    "# Define some subroutines\n",
    "def sigmoid(x):\n",
    "    return 1/( 1 + np.exp(-x))\n",
    "\n",
    "def sigmoid_derivative(matrix):\n",
    "    return np.multiply(matrix, (np.ones(matrix.shape, dtype = np.uint8) - matrix))"
   ]
  },
  {
   "cell_type": "code",
   "execution_count": 8,
   "metadata": {},
   "outputs": [],
   "source": [
    "# Define input matrix\n",
    "X = []\n",
    "\n",
    "for i in range(len(x1)):\n",
    "    X_i = [[x1[i]], [x2[i]]]\n",
    "    X.insert(len(X), X_i)\n",
    "\n",
    "X = np.asarray(X)"
   ]
  },
  {
   "cell_type": "code",
   "execution_count": 9,
   "metadata": {},
   "outputs": [
    {
     "name": "stdout",
     "output_type": "stream",
     "text": [
      "[array([[1, 1],\n",
      "       [1, 1]], dtype=uint8), array([[1, 1]], dtype=uint8)]\n",
      "[array([[1],\n",
      "       [1]], dtype=uint8), array([[1]], dtype=uint8)]\n"
     ]
    }
   ],
   "source": [
    "# Define perceptron model\n",
    "model = [2, 2, 1]       # 2 inputs, 1 hidden layer: 2 notes, 1 output\n",
    "\n",
    "W = []\n",
    "B = []\n",
    "\n",
    "# Initialize weight matrices and bias matrices\n",
    "for i in range(len(model)-1):\n",
    "    W_i = np.ones((model[i+1], model[i]), dtype = np.uint8)\n",
    "    B_i = np.ones((model[i+1], 1), dtype = np.uint8)\n",
    "    \n",
    "    W.insert(len(W), W_i)\n",
    "    B.insert(len(B), B_i)\n",
    "    \n",
    "print(W)\n",
    "print(B)"
   ]
  },
  {
   "cell_type": "code",
   "execution_count": 10,
   "metadata": {},
   "outputs": [],
   "source": [
    "# Back-Propagation\n",
    "J = 0\n",
    "Loss = []\n",
    "learning_rate = 0.005\n",
    "num_epochs = 50\n",
    "for e in range(num_epochs):\n",
    "    J = 0\n",
    "    for i in range(len(X)):\n",
    "        S1 = np.dot(W[0], X[i]) + B[0]\n",
    "        A1 = sigmoid(S1)\n",
    "        S2 = np.dot(W[1], A1) + B[1]\n",
    "        y_hat = sigmoid(S2)[0]\n",
    "\n",
    "        # Update weights and biases\n",
    "        B[1] = B[1] - learning_rate*(y_hat - y[i])\n",
    "        W[1] = W[1] - learning_rate*A1.transpose()*(y_hat - y[i])\n",
    "\n",
    "        B[0] = B[0] - learning_rate*np.multiply(W[1].transpose(), sigmoid_derivative(A1))*(y_hat - y[i])\n",
    "        W[0] = W[0] - learning_rate*np.dot(np.multiply(W[1].transpose(), sigmoid_derivative(A1)), X[i].transpose())*(y_hat - y[i])\n",
    "\n",
    "        L = -(y[i]*np.log(y_hat) + (1 - y[i])*np.log(1 - y_hat))\n",
    "        J += L\n",
    "\n",
    "    Loss = np.append(Loss, J)"
   ]
  },
  {
   "cell_type": "code",
   "execution_count": 11,
   "metadata": {},
   "outputs": [
    {
     "name": "stdout",
     "output_type": "stream",
     "text": [
      "[161.71166928 123.00549779  93.58649766  73.49541185  60.83005833\n",
      "  53.14784174  48.51222384  45.67864659  43.91218236  42.78814189\n",
      "  42.05926421  41.57878547  41.25758543  41.04031447  40.8918775\n",
      "  40.7896095   40.71863737  40.66906633  40.6342362   40.60961944\n",
      "  40.5921126   40.57957352  40.57051509  40.56390011  40.5590024\n",
      "  40.55531212  40.55247051  40.55022477  40.54839664  40.54686042\n",
      "  40.54552752  40.54433559  40.54324087  40.54221273  40.54122982\n",
      "  40.54027735  40.53934517  40.53842635  40.53751626  40.53661185\n",
      "  40.53571114  40.53481294  40.53391654  40.53302159  40.53212794\n",
      "  40.53123562  40.53034469  40.52945532  40.52856765  40.52768186]\n"
     ]
    }
   ],
   "source": [
    "Loss = np.asarray(Loss)\n",
    "print(Loss)"
   ]
  },
  {
   "cell_type": "code",
   "execution_count": 12,
   "metadata": {},
   "outputs": [
    {
     "data": {
      "image/png": "[encoded data removed]",
      "text/plain": [
       "<Figure size 432x288 with 1 Axes>"
      ]
     },
     "metadata": {
      "needs_background": "light"
     },
     "output_type": "display_data"
    }
   ],
   "source": [
    "# Create count of the number of epochs\n",
    "epoch_count = range(1, num_epochs + 1)\n",
    "\n",
    "# Visualize Loss\n",
    "plt.plot(epoch_count, Loss, 'b-')\n",
    "plt.xlabel('Epoch')\n",
    "plt.ylabel('Error')\n",
    "plt.show()"
   ]
  },
  {
   "cell_type": "code",
   "execution_count": null,
   "metadata": {},
   "outputs": [],
   "source": []
  }
 ],
 "metadata": {
  "kernelspec": {
   "display_name": "Python 3",
   "language": "python",
   "name": "python3"
  },
  "language_info": {
   "codemirror_mode": {
    "name": "ipython",
    "version": 3
   },
   "file_extension": ".py",
   "mimetype": "text/x-python",
   "name": "python",
   "nbconvert_exporter": "python",
   "pygments_lexer": "ipython3",
   "version": "3.6.7"
  }
 },
 "nbformat": 4,
 "nbformat_minor": 2
}
